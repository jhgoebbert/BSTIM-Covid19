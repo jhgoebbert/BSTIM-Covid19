{
 "nbformat": 4,
 "nbformat_minor": 2,
 "metadata": {
  "language_info": {
   "name": "python",
   "codemirror_mode": {
    "name": "ipython",
    "version": 3
   },
   "version": "3.6.9-final"
  },
  "orig_nbformat": 2,
  "file_extension": ".py",
  "mimetype": "text/x-python",
  "name": "python",
  "npconvert_exporter": "python",
  "pygments_lexer": "ipython3",
  "version": 3,
  "kernelspec": {
   "name": "python36964bitvenvvirtualenv3fb56614ec0145e7b634505cfc5fe33c",
   "display_name": "Python 3.6.9 64-bit ('.venv': virtualenv)"
  }
 },
 "cells": [
  {
   "cell_type": "code",
   "execution_count": null,
   "metadata": {},
   "outputs": [],
   "source": [
    "import itertools as it\n",
    "import pickle as pkl\n",
    "import os\n",
    "from collections import OrderedDict\n",
    "%run ../src/sampling_utils.py\n",
    "%run ../src/shared_utils.py"
   ]
  },
  {
   "cell_type": "code",
   "execution_count": null,
   "metadata": {},
   "outputs": [],
   "source": [
    "disease = \"covid19\"\n",
    "prediction_region = \"germany\"\n",
    "\n",
    "with open('../data/counties/counties.pkl', \"rb\") as f:\n",
    "    counties = pkl.load(f)\n",
    "\n",
    "data = load_daily_data(disease, prediction_region, counties)\n",
    "times = uniform_times_by_day(data.index)\n",
    "locs = uniform_locations_by_county(counties)\n",
    "\n",
    "def temporal_bfs(x): return bspline_bfs(x, np.array(\n",
    "    [0, 0, 1, 2, 3, 4, 5]) * 24 * 3600.0, 2)\n",
    "\n",
    "def spatial_bfs(x): return [gaussian_bf(x, σ)\n",
    "                            for σ in [6.25, 12.5, 25.0, 50.0]]\n",
    "\n",
    "num_features = len(temporal_bfs(tt.fmatrix(\"tmp\"))) * len(spatial_bfs(tt.fmatrix(\"tmp\")))"
   ]
  },
  {
   "cell_type": "code",
   "execution_count": null,
   "metadata": {},
   "outputs": [],
   "source": [
    "%%timeit\n",
    "samp = IAEffectSampler(data, times, locs, temporal_bfs, spatial_bfs, verbose=False)\n",
    "res = samp(data.index, data.columns)"
   ]
  },
  {
   "cell_type": "code",
   "execution_count": null,
   "metadata": {},
   "outputs": [],
   "source": [
    "%%timeit\n",
    "ia_bfs = build_ia_bfs(temporal_bfs, spatial_bfs)\n",
    "res = sample_ia_effects(data, days, counties, ia_bfs, num_features)"
   ]
  }
 ]
}